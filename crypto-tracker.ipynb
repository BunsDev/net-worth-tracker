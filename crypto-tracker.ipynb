{
 "cells": [
  {
   "cell_type": "markdown",
   "metadata": {},
   "source": [
    "# Balances"
   ]
  },
  {
   "cell_type": "code",
   "execution_count": null,
   "metadata": {},
   "outputs": [],
   "source": [
    "from datetime import datetime\n",
    "print(f\"Last executed on {datetime.now()}\")"
   ]
  },
  {
   "cell_type": "code",
   "execution_count": null,
   "metadata": {},
   "outputs": [],
   "source": [
    "import crypto_tracker"
   ]
  },
  {
   "cell_type": "markdown",
   "metadata": {},
   "source": [
    "## Binance"
   ]
  },
  {
   "cell_type": "code",
   "execution_count": null,
   "metadata": {},
   "outputs": [],
   "source": [
    "balances_binance = crypto_tracker.get_binance_balances()"
   ]
  },
  {
   "cell_type": "markdown",
   "metadata": {},
   "source": [
    "## BlockFi\n",
    "\n",
    "Download from https://app.blockfi.com/settings/reports"
   ]
  },
  {
   "cell_type": "code",
   "execution_count": null,
   "metadata": {},
   "outputs": [],
   "source": [
    "balances_blockfi = crypto_tracker.get_blockfi_balances()"
   ]
  },
  {
   "cell_type": "markdown",
   "metadata": {},
   "source": [
    "## Nexo.io\n",
    "\n",
    "Download from https://platform.nexo.io/transactions"
   ]
  },
  {
   "cell_type": "code",
   "execution_count": null,
   "metadata": {},
   "outputs": [],
   "source": [
    "balances_nexo = crypto_tracker.get_nexo_balances()"
   ]
  },
  {
   "cell_type": "markdown",
   "metadata": {},
   "source": [
    "## Exodus\n",
    "\n",
    "In the application, go to\n",
    "- Exodus in menu bar\n",
    "- Developer\n",
    "- Export All Transactions\n",
    "\n",
    "\n",
    "TODO: get old Exodus wallet"
   ]
  },
  {
   "cell_type": "code",
   "execution_count": null,
   "metadata": {},
   "outputs": [],
   "source": [
    "balances_exodus = crypto_tracker.get_exodus()"
   ]
  },
  {
   "cell_type": "markdown",
   "metadata": {},
   "source": [
    "## Trust Wallet"
   ]
  },
  {
   "cell_type": "code",
   "execution_count": null,
   "metadata": {},
   "outputs": [],
   "source": [
    "bsc = crypto_tracker.scrape_yieldwatch(timeout=10)\n",
    "balances_bsc = crypto_tracker.bsc_to_balances(bsc)\n",
    "balances_trust = crypto_tracker.get_bsc_balance()\n",
    "\n",
    "print(\"From YieldWatch:\\n\")\n",
    "bsc"
   ]
  },
  {
   "cell_type": "markdown",
   "metadata": {},
   "source": [
    "# Total in euro\n",
    "Using CoinGecko"
   ]
  },
  {
   "cell_type": "code",
   "execution_count": null,
   "metadata": {},
   "outputs": [],
   "source": [
    "balances = crypto_tracker.combine_balances(\n",
    "    balances_binance,\n",
    "    balances_blockfi,\n",
    "    balances_exodus,\n",
    "    balances_nexo,\n",
    "    balances_trust,\n",
    "    balances_bsc,\n",
    ")\n",
    "eur_balances = crypto_tracker.get_balances_in_euro(balances)"
   ]
  },
  {
   "cell_type": "code",
   "execution_count": null,
   "metadata": {},
   "outputs": [],
   "source": [
    "crypto_tracker.save_data(\n",
    "    balances_binance,\n",
    "    balances_blockfi,\n",
    "    balances_exodus,\n",
    "    balances_nexo,\n",
    "    balances_trust,\n",
    "    balances_bsc,\n",
    "    eur_balances,\n",
    "    bsc,\n",
    ")"
   ]
  },
  {
   "cell_type": "code",
   "execution_count": null,
   "metadata": {},
   "outputs": [],
   "source": [
    "sum(eur_balances.values())"
   ]
  },
  {
   "cell_type": "code",
   "execution_count": null,
   "metadata": {},
   "outputs": [],
   "source": [
    "import pandas as pd\n",
    "\n",
    "pd.set_option(\"display.float_format\", lambda x: \"%.5f\" % x)\n",
    "df = pd.DataFrame([eur_balances, balances], index=[\"Value (€)\", \"Amount token\"]).T\n",
    "df['price (€)'] = df[\"Value (€)\"] / df['Amount token']\n",
    "df"
   ]
  },
  {
   "cell_type": "markdown",
   "metadata": {},
   "source": [
    "# Plots"
   ]
  },
  {
   "cell_type": "code",
   "execution_count": null,
   "metadata": {},
   "outputs": [],
   "source": [
    "import datetime\n",
    "import json\n",
    "from pathlib import Path\n",
    "\n",
    "import crypto_tracker\n",
    "import matplotlib.pyplot as plt\n",
    "import pandas as pd\n",
    "\n",
    "\n",
    "def load_data():\n",
    "    fnames = sorted(Path(\".\").glob(\"*.json\"))\n",
    "\n",
    "    datas = {}\n",
    "    for fname in fnames:\n",
    "        with fname.open(\"r\") as f:\n",
    "            dt = datetime.datetime.strptime(fname.with_suffix(\"\").name, \"%Y%m%d-%H%M%S\")\n",
    "            datas[dt] = json.load(f)\n",
    "    return datas\n",
    "\n",
    "\n",
    "def get_df(key, datas):\n",
    "    df = pd.DataFrame(\n",
    "        [data[key] for data in datas.values()], [date for date in datas.keys()]\n",
    "    ).sort_index()\n",
    "    order = df_eur.iloc[-1].sort_values(ascending=False).index\n",
    "    return df[order]\n",
    "\n",
    "datas = load_data()\n",
    "df_eur = get_df(\"eur_balances\", datas)\n",
    "df_bal = get_df(\"balances\", datas)"
   ]
  },
  {
   "cell_type": "code",
   "execution_count": null,
   "metadata": {},
   "outputs": [],
   "source": [
    "fig, ax = plt.subplots(figsize=(15, 15))\n",
    "last = df_eur.iloc[-1]\n",
    "patches, texts, _ = ax.pie(last, labels=last.index, autopct=\"%1.1f%%\")\n",
    "factor = 100 / last.sum()\n",
    "legend_labels = [\n",
    "    f\"{coin} - {factor*amount:1.2f}% - €{amount:.2f}\"\n",
    "    for coin, amount in last.items()\n",
    "]\n",
    "\n",
    "ax.axis(\"equal\")\n",
    "plt.tight_layout()\n",
    "plt.legend(\n",
    "    patches,\n",
    "    legend_labels,\n",
    "    loc=\"upper left\",\n",
    "    bbox_to_anchor=(-0.25, 1.0),\n",
    "    fontsize=12,\n",
    ")\n",
    "plt.show()"
   ]
  },
  {
   "cell_type": "code",
   "execution_count": null,
   "metadata": {},
   "outputs": [],
   "source": [
    "def get_title(series):\n",
    "    coin = series.name\n",
    "    pct_change = 100 * (series.iloc[-1] - series.iloc[0]) / series.iloc[0]\n",
    "    amount_change = series.iloc[-1] - series.iloc[0]\n",
    "    return (\n",
    "        f\"{coin} value over time, {pct_change:.1f}%, €{amount_change:.2f}\"\n",
    "        \" change since the start\"\n",
    "    )\n",
    "\n",
    "total = df_eur.sum(axis=1, skipna=True)\n",
    "total.name = \"total\"\n",
    "total.plot(\n",
    "    title=get_title(total),\n",
    "    xlabel=\"Date\",\n",
    "    ylabel=\"Value (€)\",\n",
    ")\n",
    "plt.show()"
   ]
  },
  {
   "cell_type": "code",
   "execution_count": null,
   "metadata": {},
   "outputs": [],
   "source": [
    "last_values = df_eur.iloc[-1].sort_values(ascending=False)\n",
    "top_n = 15\n",
    "biggest_holdings = last_values.index[:top_n]\n",
    "\n",
    "for coin in biggest_holdings:\n",
    "    bal = df_bal[coin]\n",
    "    eur = df_eur[coin]\n",
    "    fig0, ax0 = plt.subplots()\n",
    "    ax1 = ax0.twinx()\n",
    "    ax1.spines[\"right\"].set_edgecolor(\"C1\")\n",
    "    ax1.tick_params(axis=\"y\", colors=\"C1\")\n",
    "    ax1.set_ylabel(f\"Amount in {coin}\")\n",
    "    mid, min_, max_ = bal.mean(), bal.min(), bal.max()\n",
    "    ax1.set_ylim(min(mid * 0.9, min_), max(mid * 1.1, max_))\n",
    "    eur.plot(\n",
    "        ax=ax0,\n",
    "        xlabel=\"Date\",\n",
    "        ylabel=\"Value (€)\",\n",
    "        title=get_title(eur)\n",
    "    )\n",
    "    bal.plot(ax=ax1, c=\"C1\")\n",
    "    plt.show()"
   ]
  },
  {
   "cell_type": "markdown",
   "metadata": {},
   "source": [
    "# DeFi on BSC"
   ]
  },
  {
   "cell_type": "code",
   "execution_count": null,
   "metadata": {},
   "outputs": [],
   "source": [
    "def get_df_wallet(wallet, datas):\n",
    "    df = pd.DataFrame(\n",
    "        [data[\"balances_per_category\"][wallet] for data in datas.values()],\n",
    "        [date for date in datas.keys()],\n",
    "    ).sort_index()\n",
    "    return df\n",
    "\n",
    "\n",
    "df_bsc = get_df_wallet(\"bsc\", datas)\n",
    "\n",
    "pct_change = 100 * (df_bsc.iloc[-1] - df_bsc.iloc[0]) / df_bsc.iloc[0]\n",
    "amount_change = df_bsc.iloc[-1] - df_bsc.iloc[0]\n",
    "best_5 = pct_change.sort_values(ascending=False)[:5]\n",
    "\n",
    "for coin, pct_change in best_5.iteritems():\n",
    "    df_bsc[coin].plot(\n",
    "        xlabel=\"Date\",\n",
    "        ylabel=f\"Amount ({coin})\",\n",
    "        title=f\"{coin} amount, {pct_change:.1}% change since beginning\",\n",
    "    )\n",
    "    plt.show()"
   ]
  }
 ],
 "metadata": {
  "language_info": {
   "name": "python",
   "pygments_lexer": "ipython3"
  }
 },
 "nbformat": 4,
 "nbformat_minor": 2
}
