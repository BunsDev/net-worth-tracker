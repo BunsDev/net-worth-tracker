{
 "cells": [
  {
   "cell_type": "markdown",
   "metadata": {},
   "source": [
    "# Balances"
   ]
  },
  {
   "cell_type": "code",
   "execution_count": null,
   "metadata": {},
   "outputs": [],
   "source": [
    "import crypto_tracker"
   ]
  },
  {
   "cell_type": "markdown",
   "metadata": {},
   "source": [
    "## Binance\n",
    "\n",
    "TODO:\n",
    "- add liqudity pool"
   ]
  },
  {
   "cell_type": "code",
   "execution_count": null,
   "metadata": {},
   "outputs": [],
   "source": [
    "balances_binance = crypto_tracker.get_binance_balances()"
   ]
  },
  {
   "cell_type": "markdown",
   "metadata": {},
   "source": [
    "## BlockFi\n",
    "\n",
    "Download from https://app.blockfi.com/settings/reports"
   ]
  },
  {
   "cell_type": "code",
   "execution_count": null,
   "metadata": {},
   "outputs": [],
   "source": [
    "balances_blockfi = crypto_tracker.get_blockfi_balances()"
   ]
  },
  {
   "cell_type": "markdown",
   "metadata": {},
   "source": [
    "## Nexo.io\n",
    "\n",
    "Download from https://platform.nexo.io/transactions"
   ]
  },
  {
   "cell_type": "code",
   "execution_count": null,
   "metadata": {},
   "outputs": [],
   "source": [
    "balances_nexo = crypto_tracker.get_nexo_balances()"
   ]
  },
  {
   "cell_type": "markdown",
   "metadata": {},
   "source": [
    "## Exodus\n",
    "\n",
    "In the application, go to\n",
    "- Exodus in menu bar\n",
    "- Developer\n",
    "- Export All Transactions\n",
    "\n",
    "\n",
    "TODO: get old Exodus wallet"
   ]
  },
  {
   "cell_type": "code",
   "execution_count": null,
   "metadata": {},
   "outputs": [],
   "source": [
    "balances_exodus = crypto_tracker.get_exodus()"
   ]
  },
  {
   "cell_type": "markdown",
   "metadata": {},
   "source": [
    "## Trust Wallet"
   ]
  },
  {
   "cell_type": "code",
   "execution_count": null,
   "metadata": {},
   "outputs": [],
   "source": [
    "bsc = crypto_tracker.scrape_yieldwatch()\n",
    "balances_bsc = crypto_tracker.bsc_to_balances(bsc)\n",
    "balances_trust = crypto_tracker.get_bsc_balance()\n",
    "\n",
    "print(\"From YieldWatch:\\n\")\n",
    "bsc"
   ]
  },
  {
   "cell_type": "markdown",
   "metadata": {},
   "source": [
    "# Total\n",
    "\n",
    "Using CoinGecko"
   ]
  },
  {
   "cell_type": "code",
   "execution_count": null,
   "metadata": {},
   "outputs": [],
   "source": [
    "balances = crypto_tracker.combine_balances(\n",
    "    balances_binance,\n",
    "    balances_blockfi,\n",
    "    balances_exodus,\n",
    "    balances_nexo,\n",
    "    balances_trust,\n",
    "    balances_bsc,\n",
    ")\n",
    "eur_balances = crypto_tracker.get_balances_in_euro(balances)"
   ]
  },
  {
   "cell_type": "code",
   "execution_count": null,
   "metadata": {},
   "outputs": [],
   "source": [
    "crypto_tracker.save_data(\n",
    "    balances_binance,\n",
    "    balances_blockfi,\n",
    "    balances_exodus,\n",
    "    balances_nexo,\n",
    "    balances_trust,\n",
    "    balances_bsc,\n",
    "    eur_balances,\n",
    "    bsc,\n",
    ")"
   ]
  },
  {
   "cell_type": "code",
   "execution_count": null,
   "metadata": {},
   "outputs": [],
   "source": [
    "sum(eur_balances.values())"
   ]
  },
  {
   "cell_type": "code",
   "execution_count": null,
   "metadata": {},
   "outputs": [],
   "source": [
    "import matplotlib.pyplot as plt\n",
    "import numpy as np\n",
    "\n",
    "coins, amounts_eur = zip(*eur_balances.items())\n",
    "labels = coins\n",
    "sizes = amounts_eur\n",
    "fig, ax = plt.subplots(figsize=(15, 15))\n",
    "patches, texts, _ = ax.pie(sizes, labels=labels, autopct=\"%1.1f%%\")\n",
    "factor = 100 / sum(amounts_eur)\n",
    "legend_labels = [\n",
    "    f\"{coin} - {factor*amount:1.2f}% - €{amount:.2f}\"\n",
    "    for coin, amount in zip(coins, amounts_eur)\n",
    "]\n",
    "\n",
    "ax.axis(\"equal\")\n",
    "plt.tight_layout()\n",
    "plt.legend(\n",
    "    patches,\n",
    "    legend_labels,\n",
    "    loc=\"upper left\",\n",
    "    bbox_to_anchor=(-0.25, 1.0),\n",
    "    fontsize=12,\n",
    ")\n",
    "plt.show()"
   ]
  }
 ],
 "metadata": {
  "language_info": {
   "name": "python",
   "pygments_lexer": "ipython3"
  }
 },
 "nbformat": 4,
 "nbformat_minor": 2
}
