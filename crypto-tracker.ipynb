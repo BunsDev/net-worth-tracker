{
 "cells": [
  {
   "cell_type": "markdown",
   "metadata": {},
   "source": [
    "# Balances\n",
    "\n",
    "<div class=\"alert alert-danger\">\n",
    "  <strong>Warning!</strong> This notebook contains a fake portfolio <i>(automatically generated)</i> and <b>does not</b> represent my own, it merely serves as an example.\n",
    "</div>\n"
   ]
  },
  {
   "cell_type": "raw",
   "metadata": {},
   "source": [
    "<style>\n",
    "div.prompt {display:none}\n",
    "</style>"
   ]
  },
  {
   "cell_type": "code",
   "execution_count": null,
   "metadata": {},
   "outputs": [],
   "source": [
    "from datetime import datetime\n",
    "print(f\"Last executed on {datetime.now()}\")"
   ]
  },
  {
   "cell_type": "markdown",
   "metadata": {},
   "source": [
    "### Binance\n",
    "\n",
    "Uses API and gets both wallet and Binance Earn investments.\n",
    "\n",
    "### BlockFi\n",
    "\n",
    "Uses `csv` files downloaded from https://app.blockfi.com/settings/reports\n",
    "\n",
    "### Nexo.io\n",
    "\n",
    "Uses `csv` files downloaded from https://platform.nexo.io/transactions\n",
    "\n",
    "### Exodus\n",
    "\n",
    "Uses `csv` files which can be extracted using:\n",
    "\n",
    "Exodus Desktop application → *Exodus* in menu bar → *Developer* → *Export All Transactions*\n",
    "\n",
    "\n",
    "TODO: get old Exodus wallet\n",
    "\n",
    "### Trust Wallet\n",
    "\n",
    "Uses an BCSScan.com API query for all BEP20 tokens."
   ]
  },
  {
   "cell_type": "code",
   "execution_count": null,
   "metadata": {},
   "outputs": [],
   "source": [
    "import net_worth_tracker as nwt\n",
    "\n",
    "balances_binance = nwt.binance.get_binance_balances()\n",
    "balances_blockfi = nwt.blockfi.get_blockfi_balances()\n",
    "balances_nexo = nwt.nexo.get_nexo_balances()\n",
    "balances_exodus = nwt.exodus.get_exodus()\n",
    "balances_trust = nwt.binance_smart_chain.get_bep20_balances()\n",
    "\n",
    "yieldwatch = nwt.binance_smart_chain.scrape_yieldwatch(timeout=30)\n",
    "balances_bsc = nwt.binance_smart_chain.yieldwatch_to_balances(yieldwatch)"
   ]
  },
  {
   "cell_type": "markdown",
   "metadata": {},
   "source": [
    "# Total in euro\n",
    "Using CoinGecko"
   ]
  },
  {
   "cell_type": "code",
   "execution_count": null,
   "metadata": {},
   "outputs": [],
   "source": [
    "balances = nwt.utils.combine_balances(\n",
    "    balances_binance,\n",
    "    balances_blockfi,\n",
    "    balances_exodus,\n",
    "    balances_nexo,\n",
    "    balances_trust,\n",
    "    balances_bsc,\n",
    ")\n",
    "eur_balances = nwt.coin_gecko.get_balances_in_euro(balances)\n",
    "nwt.binance_smart_chain.update_eur_balances(eur_balances, yieldwatch, balances_bsc)"
   ]
  },
  {
   "cell_type": "code",
   "execution_count": null,
   "metadata": {},
   "outputs": [],
   "source": [
    "nwt.utils.save_data(\n",
    "    balances_binance,\n",
    "    balances_blockfi,\n",
    "    balances_exodus,\n",
    "    balances_nexo,\n",
    "    balances_trust,\n",
    "    balances_bsc,\n",
    "    eur_balances,\n",
    "    yieldwatch,\n",
    ")"
   ]
  },
  {
   "cell_type": "markdown",
   "metadata": {},
   "source": [
    "## Historic overview\n",
    "\n",
    "ATH is a personal ATH and 24h and 1w price change accuracy depends on sampling frequency of this notebook."
   ]
  },
  {
   "cell_type": "code",
   "execution_count": null,
   "metadata": {},
   "outputs": [],
   "source": [
    "import net_worth_tracker as nwt\n",
    "\n",
    "import pandas as pd\n",
    "\n",
    "datas = nwt.utils.load_data()\n",
    "df = nwt.utils.datas_to_df(datas)\n",
    "\n",
    "df_eur = nwt.utils.get_df(\"eur_balances\", datas)\n",
    "df_bal = nwt.utils.get_df(\"balances\", datas)\n",
    "\n",
    "overview = nwt.utils.overview_df(df)\n",
    "total_ath_value = overview[\"ATH value (€)\"].sum(skipna=True)\n",
    "total_atl_value = overview[\"ATL value (€)\"].sum(skipna=True)\n",
    "total_value = overview[\"value\"].sum(skipna=True)\n",
    "print(f\"Current networth in crypto:\\n€{total_value:.2f}\\n\")\n",
    "print(f\"The total ATL/ATH value is\\n€{total_atl_value:.2f}/€{total_ath_value:.2f}\\n\")"
   ]
  },
  {
   "cell_type": "code",
   "execution_count": null,
   "metadata": {},
   "outputs": [],
   "source": [
    "pd.set_option(\"display.float_format\", lambda x: \"%.5f\" % x)\n",
    "nwt.utils.styled_overview_df(df)"
   ]
  },
  {
   "cell_type": "markdown",
   "metadata": {},
   "source": [
    "# Plots"
   ]
  },
  {
   "cell_type": "code",
   "execution_count": null,
   "metadata": {},
   "outputs": [],
   "source": [
    "import matplotlib.pyplot as plt\n",
    "\n",
    "fig, ax = plt.subplots(figsize=(15, 15))\n",
    "last = df_eur.iloc[-1].dropna()\n",
    "patches, texts, _ = ax.pie(last, labels=last.index, autopct=\"%1.1f%%\")\n",
    "factor = 100 / last.sum()\n",
    "legend_labels = [\n",
    "    f\"{coin} - {factor*amount:1.2f}% - €{amount:.2f}\" for coin, amount in last.items()\n",
    "]\n",
    "\n",
    "ax.axis(\"equal\")\n",
    "plt.tight_layout()\n",
    "plt.legend(\n",
    "    patches,\n",
    "    legend_labels,\n",
    "    loc=\"upper left\",\n",
    "    bbox_to_anchor=(-0.25, 1.0),\n",
    "    fontsize=12,\n",
    ")\n",
    "plt.show()"
   ]
  },
  {
   "cell_type": "code",
   "execution_count": null,
   "metadata": {},
   "outputs": [],
   "source": [
    "import matplotlib.pyplot as plt\n",
    "\n",
    "cols = [col for col in df.columns if col.startswith(\"value_in\")]\n",
    "value_in = df[df.date == df.date.max()][cols].sum(skipna=True).sort_values(ascending=False)\n",
    "value_in.index = [col.replace(\"value_in_\", \"\") for col in value_in.index]\n",
    "\n",
    "fig, ax = plt.subplots(figsize=(8, 8))\n",
    "patches, texts, _ = ax.pie(value_in, labels=value_in.index, autopct=\"%1.1f%%\")\n",
    "factor = 100 / value_in.sum()\n",
    "legend_labels = [\n",
    "    f\"{coin} - {factor*amount:1.2f}% - €{amount:.2f}\" for coin, amount in value_in.items()\n",
    "]\n",
    "\n",
    "ax.axis(\"equal\")\n",
    "plt.tight_layout()\n",
    "plt.legend(\n",
    "    patches,\n",
    "    legend_labels,\n",
    "    loc=\"upper left\",\n",
    "    bbox_to_anchor=(-0.25, 1.0),\n",
    "    fontsize=16,\n",
    ")\n",
    "plt.show()"
   ]
  },
  {
   "cell_type": "code",
   "execution_count": null,
   "metadata": {},
   "outputs": [],
   "source": [
    "cols = [col for col in df.columns if col.startswith(\"value_in\")]\n",
    "value_ratios = df.groupby('date').sum()[cols]\n",
    "value_ratios.columns = [col.replace(\"value_in_\", \"\") for col in value_ratios.columns]\n",
    "value_ratios.plot(xlabel=\"Date\", ylabel=\"Amount (€)\", ylim=(0, None), title=\"Value per category\")\n",
    "plt.show()"
   ]
  },
  {
   "cell_type": "markdown",
   "metadata": {},
   "source": [
    "## Total value over time"
   ]
  },
  {
   "cell_type": "code",
   "execution_count": null,
   "metadata": {},
   "outputs": [],
   "source": [
    "def get_title(series):\n",
    "    coin = series.name\n",
    "    pct_change = 100 * (series.iloc[-1] - series.iloc[0]) / series.iloc[0]\n",
    "    amount_change = series.iloc[-1] - series.iloc[0]\n",
    "    return (\n",
    "        f\"{coin} value over time, {pct_change:.1f}%, \"\n",
    "        f\"€{amount_change:.2f} change since the start\"\n",
    "    )\n",
    "\n",
    "\n",
    "total = df_eur.sum(axis=1, skipna=True)\n",
    "total.name = \"total\"\n",
    "total.plot(\n",
    "    title=get_title(total),\n",
    "    xlabel=\"Date\",\n",
    "    ylabel=\"Value (€)\",\n",
    ")\n",
    "plt.show()"
   ]
  },
  {
   "cell_type": "markdown",
   "metadata": {},
   "source": [
    "## Value over time for current top 15 holdings"
   ]
  },
  {
   "cell_type": "code",
   "execution_count": null,
   "metadata": {},
   "outputs": [],
   "source": [
    "last_values = df_eur.iloc[-1].sort_values(ascending=False)\n",
    "top_n = 15\n",
    "biggest_holdings = last_values.index[:top_n]\n",
    "\n",
    "for coin in biggest_holdings:\n",
    "    bal = df_bal[coin]\n",
    "    eur = df_eur[coin]\n",
    "    fig0, ax0 = plt.subplots()\n",
    "    ax1 = ax0.twinx()\n",
    "    ax1.spines[\"right\"].set_edgecolor(\"C1\")\n",
    "    ax1.tick_params(axis=\"y\", colors=\"C1\")\n",
    "    ax1.set_ylabel(f\"Amount in {coin}\")\n",
    "    mid, min_, max_ = bal.mean(), bal.min(), bal.max()\n",
    "    ax1.set_ylim(min(mid * 0.9, min_), max(mid * 1.1, max_))\n",
    "    eur.plot(ax=ax0, xlabel=\"Date\", ylabel=\"Value (€)\", title=get_title(eur))\n",
    "    bal.plot(ax=ax1, c=\"C1\")\n",
    "    plt.show()"
   ]
  },
  {
   "cell_type": "markdown",
   "metadata": {},
   "source": [
    "# DeFi on BSC\n",
    "\n",
    "Top 5 fastest growing holdings in smart contracts."
   ]
  },
  {
   "cell_type": "code",
   "execution_count": null,
   "metadata": {},
   "outputs": [],
   "source": [
    "df_bsc = nwt.utils.get_df_wallet(\"bsc\", datas)\n",
    "\n",
    "pct_change = 100 * (df_bsc.iloc[-1] - df_bsc.iloc[0]) / df_bsc.iloc[0]\n",
    "amount_change = df_bsc.iloc[-1] - df_bsc.iloc[0]\n",
    "best_5 = pct_change.sort_values(ascending=False)[:5]\n",
    "\n",
    "for coin, pct_change in best_5.iteritems():\n",
    "    df_bsc[coin].plot(\n",
    "        xlabel=\"Date\",\n",
    "        ylabel=f\"Amount ({coin})\",\n",
    "        title=f\"{coin} amount, {pct_change:.1f}% change since beginning\",\n",
    "    )\n",
    "    plt.show()"
   ]
  }
 ],
 "metadata": {
  "language_info": {
   "name": "python",
   "pygments_lexer": "ipython3"
  }
 },
 "nbformat": 4,
 "nbformat_minor": 2
}
