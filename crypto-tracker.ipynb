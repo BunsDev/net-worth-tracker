{
 "cells": [
  {
   "cell_type": "markdown",
   "metadata": {},
   "source": [
    "# Balances\n",
    "\n",
    "<div class=\"alert alert-danger\">\n",
    "  <strong>Warning!</strong> This notebook contains a fake portfolio <i>(automatically generated)</i> and <b>does not</b> represent my own, it merely serves as an example.\n",
    "</div>\n"
   ]
  },
  {
   "cell_type": "raw",
   "metadata": {},
   "source": [
    "<style>\n",
    "div.prompt {display:none}\n",
    "</style>"
   ]
  },
  {
   "cell_type": "code",
   "execution_count": null,
   "metadata": {},
   "outputs": [],
   "source": [
    "from datetime import datetime\n",
    "\n",
    "print(f\"Last executed on {datetime.now()}\")"
   ]
  },
  {
   "cell_type": "markdown",
   "metadata": {},
   "source": [
    "### Binance\n",
    "\n",
    "Uses API and gets both wallet and Binance Earn investments.\n",
    "\n",
    "### BlockFi\n",
    "\n",
    "Uses `csv` files downloaded from https://app.blockfi.com/settings/reports\n",
    "\n",
    "### Nexo.io\n",
    "\n",
    "Uses `csv` files downloaded from https://platform.nexo.io/transactions\n",
    "\n",
    "### Exodus\n",
    "\n",
    "Uses `csv` files which can be extracted using:\n",
    "\n",
    "Exodus Desktop application → *Exodus* in menu bar → *Developer* → *Export All Transactions*\n",
    "\n",
    "\n",
    "TODO: get old Exodus wallet\n",
    "\n",
    "### Trust Wallet\n",
    "\n",
    "Uses an BCSScan.com API query for all BEP20 tokens."
   ]
  },
  {
   "cell_type": "code",
   "execution_count": null,
   "metadata": {},
   "outputs": [],
   "source": [
    "import net_worth_tracker as nwt\n",
    "\n",
    "balances_binance = nwt.binance.get_binance_balances()\n",
    "balances_blockfi = nwt.blockfi.get_blockfi_balances()\n",
    "balances_nexo = nwt.nexo.get_nexo_balances()\n",
    "balances_exodus = nwt.exodus.get_exodus()\n",
    "balances_exodus_old = nwt.exodus.get_exodus(\"~/Desktop/exodus-exports/old-exodus-wallet.csv\")\n",
    "balances_bep20 = nwt.binance_smart_chain.get_bep20_balances()\n",
    "balances_bsc, yieldwatch = nwt.binance_smart_chain.get_yieldwatch_balances(\n",
    "    return_raw_data=True\n",
    ")"
   ]
  },
  {
   "cell_type": "code",
   "execution_count": null,
   "metadata": {},
   "outputs": [],
   "source": [
    "balances = {\n",
    "    \"binance\": balances_binance,\n",
    "    \"blockfi\": balances_blockfi,\n",
    "    \"nexo\": balances_nexo,\n",
    "    \"exodus\": balances_exodus,\n",
    "    \"exodus_old\": balances_exodus_old,\n",
    "    \"bep20\": balances_bep20,\n",
    "    \"bsc\": balances_bsc,\n",
    "}"
   ]
  },
  {
   "cell_type": "code",
   "execution_count": null,
   "metadata": {},
   "outputs": [],
   "source": [
    "from contextlib import suppress\n",
    "\n",
    "with suppress(Exception):\n",
    "    balances_degiro = nwt.degiro.get_degiro_balances()\n",
    "    balances[\"degiro\"] = balances_degiro\n",
    "\n",
    "with suppress(Exception):  # Fails with keyring issues on Ubuntu\n",
    "    brand_new_day = nwt.brand_new_day.scrape_brand_new_day()\n",
    "    balances_brand_new_day = nwt.brand_new_day.get_balances(brand_new_day)\n",
    "    balances[\"brand_new_day\"] = balances_brand_new_day"
   ]
  },
  {
   "cell_type": "markdown",
   "metadata": {},
   "source": [
    "# Add crypto prices from CoinGecko"
   ]
  },
  {
   "cell_type": "code",
   "execution_count": null,
   "metadata": {},
   "outputs": [],
   "source": [
    "nwt.coin_gecko.add_value_and_price(balances)"
   ]
  },
  {
   "cell_type": "code",
   "execution_count": null,
   "metadata": {},
   "outputs": [],
   "source": [
    "nwt.utils.save_data(balances, yieldwatch)"
   ]
  },
  {
   "cell_type": "markdown",
   "metadata": {},
   "source": [
    "## Historic overview\n",
    "\n",
    "ATH is a personal ATH and 24h and 1w price change accuracy depends on sampling frequency of this notebook."
   ]
  },
  {
   "cell_type": "code",
   "execution_count": null,
   "metadata": {},
   "outputs": [],
   "source": [
    "import net_worth_tracker as nwt\n",
    "\n",
    "import pandas as pd\n",
    "\n",
    "datas = nwt.utils.load_data()\n",
    "df = nwt.utils.datas_to_df(\n",
    "    datas,\n",
    "    ignore=(\"degiro\", \"brand_new_day\"),\n",
    ")\n",
    "\n",
    "overview = nwt.utils.overview_df(df)\n",
    "total_ath_value = overview[\"ATH value (€)\"].sum(skipna=True)\n",
    "total_atl_value = overview[\"ATL value (€)\"].sum(skipna=True)\n",
    "total_value = overview[\"value\"].sum(skipna=True)\n",
    "print(f\"Current networth in crypto:\\n€{total_value:.2f}\\n\")\n",
    "print(f\"The total ATL/ATH value is\\n€{total_atl_value:.2f}/€{total_ath_value:.2f}\\n\")"
   ]
  },
  {
   "cell_type": "code",
   "execution_count": null,
   "metadata": {},
   "outputs": [],
   "source": [
    "pd.set_option(\"display.float_format\", lambda x: \"%.5f\" % x)\n",
    "nwt.utils.styled_overview_df(df)"
   ]
  },
  {
   "cell_type": "markdown",
   "metadata": {},
   "source": [
    "# Plots"
   ]
  },
  {
   "cell_type": "code",
   "execution_count": null,
   "metadata": {},
   "outputs": [],
   "source": [
    "%%capture\n",
    "\n",
    "import matplotlib.pyplot as plt\n",
    "from matplotlib.animation import FuncAnimation\n",
    "\n",
    "fig, ax = plt.subplots(figsize=(15, 15))\n",
    "fig.subplots_adjust(left=0.2, bottom=0.3)\n",
    "dates = nwt.utils.unique_dt_per_day(df)\n",
    "\n",
    "def update(date):\n",
    "    nwt.plots.plot_pie_at_date(df, date, min_euro=1, fig=fig, ax=ax, show=False)\n",
    "\n",
    "\n",
    "ani = FuncAnimation(fig, update, frames=dates, repeat=False)\n",
    "# ani.save(\"portfolio.mp4\")"
   ]
  },
  {
   "cell_type": "code",
   "execution_count": null,
   "metadata": {},
   "outputs": [],
   "source": [
    "from IPython.display import HTML\n",
    "\n",
    "display(HTML(ani.to_jshtml()))"
   ]
  },
  {
   "cell_type": "code",
   "execution_count": null,
   "metadata": {},
   "outputs": [],
   "source": [
    "nwt.plots.plot_pie_at_date(df, df.date.max())\n",
    "plt.show()"
   ]
  },
  {
   "cell_type": "code",
   "execution_count": null,
   "metadata": {},
   "outputs": [],
   "source": [
    "import matplotlib.pyplot as plt\n",
    "\n",
    "cols = [col for col in df.columns if col.startswith(\"value_in\")]\n",
    "value_in = (\n",
    "    df[df.date == df.date.max()][cols].sum(skipna=True).sort_values(ascending=False)\n",
    ")\n",
    "value_in.index = [col.replace(\"value_in_\", \"\") for col in value_in.index]\n",
    "\n",
    "fig, ax = plt.subplots(figsize=(8, 8))\n",
    "patches, texts, _ = ax.pie(value_in, labels=value_in.index, autopct=\"%1.1f%%\")\n",
    "factor = 100 / value_in.sum()\n",
    "legend_labels = [\n",
    "    f\"{coin} - {factor*amount:1.2f}% - €{amount:.2f}\"\n",
    "    for coin, amount in value_in.items()\n",
    "]\n",
    "\n",
    "ax.axis(\"equal\")\n",
    "plt.tight_layout()\n",
    "plt.legend(\n",
    "    patches,\n",
    "    legend_labels,\n",
    "    loc=\"upper left\",\n",
    "    bbox_to_anchor=(-0.25, 1.0),\n",
    "    fontsize=16,\n",
    ")\n",
    "plt.show()"
   ]
  },
  {
   "cell_type": "code",
   "execution_count": null,
   "metadata": {},
   "outputs": [],
   "source": [
    "%%capture\n",
    "\n",
    "import matplotlib.pyplot as plt\n",
    "from matplotlib.animation import FuncAnimation\n",
    "\n",
    "fig, ax = plt.subplots(figsize=(8, 8))\n",
    "dates = nwt.utils.unique_dt_per_day(df)\n",
    "\n",
    "def update(date):\n",
    "    nwt.plots.plot_barh_at_date(df, date, min_euro=10, fig=fig, ax=ax, show=False)\n",
    "\n",
    "ani = FuncAnimation(fig, update, frames=dates, repeat=False)\n",
    "\n",
    "# ani.save(\"barh.mp4\")"
   ]
  },
  {
   "cell_type": "code",
   "execution_count": null,
   "metadata": {},
   "outputs": [],
   "source": [
    "from IPython.display import HTML\n",
    "\n",
    "display(HTML(ani.to_jshtml()))"
   ]
  },
  {
   "cell_type": "code",
   "execution_count": null,
   "metadata": {},
   "outputs": [],
   "source": [
    "cols = [col for col in df.columns if col.startswith(\"value_in\")]\n",
    "value_ratios = df.groupby(\"date\").sum()[cols]\n",
    "value_ratios.columns = [col.replace(\"value_in_\", \"\") for col in value_ratios.columns]\n",
    "value_ratios.plot(\n",
    "    xlabel=\"Date\", ylabel=\"Amount (€)\", ylim=(0, None), title=\"Value per category\"\n",
    ")\n",
    "plt.show()"
   ]
  },
  {
   "cell_type": "markdown",
   "metadata": {},
   "source": [
    "## Total value over time"
   ]
  },
  {
   "cell_type": "code",
   "execution_count": null,
   "metadata": {},
   "outputs": [],
   "source": [
    "def get_title(series):\n",
    "    coin = series.name\n",
    "    pct_change = 100 * (series.iloc[-1] - series.iloc[0]) / series.iloc[0]\n",
    "    amount_change = series.iloc[-1] - series.iloc[0]\n",
    "    return (\n",
    "        f\"{coin} value over time, {pct_change:.1f}%, \"\n",
    "        f\"€{amount_change:.2f} change since the start\"\n",
    "    )\n",
    "\n",
    "\n",
    "total = df.groupby(\"date\").sum()[\"value\"]\n",
    "total.name = \"total\"\n",
    "total.plot(\n",
    "    title=get_title(total),\n",
    "    xlabel=\"Date\",\n",
    "    ylabel=\"Value (€)\",\n",
    ")\n",
    "plt.show()"
   ]
  },
  {
   "cell_type": "markdown",
   "metadata": {},
   "source": [
    "## Value over time for current top 15 holdings"
   ]
  },
  {
   "cell_type": "code",
   "execution_count": null,
   "metadata": {},
   "outputs": [],
   "source": [
    "total = df.groupby([\"date\", \"symbol\"]).sum()[[\"value\", \"amount\"]]\n",
    "total = total.reset_index().set_index(\"date\")\n",
    "last = total[total.index == total.index.max()]\n",
    "top_n = 15\n",
    "biggest_holdings = last.sort_values(\"value\", ascending=False).iloc[:top_n]\n",
    "\n",
    "for coin in biggest_holdings.symbol:\n",
    "    sel = total[total.symbol == coin]\n",
    "    bal = sel.amount\n",
    "    eur = sel.value\n",
    "    eur.name = coin\n",
    "    fig0, ax0 = plt.subplots()\n",
    "    ax1 = ax0.twinx()\n",
    "    ax1.spines[\"right\"].set_edgecolor(\"C1\")\n",
    "    ax1.tick_params(axis=\"y\", colors=\"C1\")\n",
    "    ax1.set_ylabel(f\"Amount in {coin}\")\n",
    "    mid, min_, max_ = bal.mean(), bal.min(), bal.max()\n",
    "    ax1.set_ylim(min(mid * 0.9, min_), max(mid * 1.1, max_))\n",
    "    eur.plot(ax=ax0, xlabel=\"Date\", ylabel=\"Value (€)\", title=get_title(eur))\n",
    "    bal.plot(ax=ax1, c=\"C1\")\n",
    "    plt.show()"
   ]
  },
  {
   "cell_type": "markdown",
   "metadata": {},
   "source": [
    "# DeFi on BSC\n",
    "\n",
    "Top 5 fastest growing holdings in smart contracts."
   ]
  },
  {
   "cell_type": "code",
   "execution_count": null,
   "metadata": {},
   "outputs": [],
   "source": [
    "import math\n",
    "import numpy as np\n",
    "\n",
    "\n",
    "def find_outliers(data, m=2):\n",
    "    diffs = data.diff().iloc[1:]\n",
    "    where = abs(diffs - np.mean(diffs)) > m * np.std(diffs)\n",
    "    return np.where(where)[0]\n",
    "\n",
    "\n",
    "def reject_outliers(data, m=2):\n",
    "    \"\"\"Start after big jumps that probably arise from deposits.\"\"\"\n",
    "    outliers = find_outliers(data, m)\n",
    "    if len(outliers) == 0:\n",
    "        last_outlier = 0\n",
    "    else:\n",
    "        last_outlier = max(outliers)\n",
    "    return data.iloc[last_outlier + 1 :]\n",
    "\n",
    "\n",
    "df_bsc = nwt.utils.get_df_wallet(\"bsc\", datas)\n",
    "amount_change = df_bsc.iloc[-1] - df_bsc.iloc[0]\n",
    "symbols = set(df.symbol)\n",
    "\n",
    "for coin in df_bsc.columns:\n",
    "    if coin == \"BUNNY\":\n",
    "        continue\n",
    "    norm_coin = nwt.utils.RENAMES.get(coin, coin)\n",
    "    if norm_coin not in symbols:\n",
    "        continue\n",
    "    value = df[df.symbol == norm_coin].iloc[-1].value\n",
    "    if np.isnan(value) or value < 10:\n",
    "        continue\n",
    "    data = df_bsc[coin]\n",
    "    data = data.resample(\"10min\").ffill(limit=1).interpolate().dropna()\n",
    "    data = reject_outliers(data, 1)\n",
    "    if len(data) < 2:\n",
    "        continue\n",
    "    pct_change = 100 * (data.iloc[-1] - data.iloc[0]) / data.iloc[0]\n",
    "    if abs(pct_change) < 0.01:\n",
    "        continue\n",
    "    dt = data.index[-1] - data.index[0]\n",
    "    days = dt.total_seconds() / 86400\n",
    "    pct_per_day = ((1 + pct_change / 100) ** (1 / days) - 1) * 100\n",
    "    days_till_double = math.log(2) / math.log(1 + pct_per_day / 100)\n",
    "    data.plot(\n",
    "        xlabel=\"Date\",\n",
    "        ylabel=f\"Amount ({coin})\",\n",
    "        title=f\"{coin} amount, {pct_change:.1f}% change in {dt}\",\n",
    "    )\n",
    "    print(\n",
    "        f\"{coin} gains {pct_per_day:.2f}% per day, takes {days_till_double:.0f} days to double.\"\n",
    "    )\n",
    "    plt.show()"
   ]
  },
  {
   "cell_type": "code",
   "execution_count": null,
   "metadata": {},
   "outputs": [],
   "source": [
    "lst = []\n",
    "for col in df_bsc.columns:\n",
    "    vals = df_bsc[col].dropna()\n",
    "    pct_change = 100 * (vals.iloc[-1] - vals.iloc[0]) / vals.iloc[0]\n",
    "    amount_change = vals.iloc[-1] - vals.iloc[0]\n",
    "    lst.append(dict(symbol=col, pct_change=pct_change, amount_change=amount_change))\n",
    "pd.DataFrame(lst).set_index(\"symbol\").sort_values(\"pct_change\")"
   ]
  }
 ],
 "metadata": {
  "language_info": {
   "name": "python",
   "pygments_lexer": "ipython3"
  }
 },
 "nbformat": 4,
 "nbformat_minor": 2
}
